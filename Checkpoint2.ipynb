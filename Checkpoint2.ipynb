{
  "nbformat": 4,
  "nbformat_minor": 0,
  "metadata": {
    "colab": {
      "provenance": []
    },
    "kernelspec": {
      "name": "python3",
      "display_name": "Python 3"
    },
    "language_info": {
      "name": "python"
    }
  },
  "cells": [
    {
      "cell_type": "code",
      "execution_count": 11,
      "metadata": {
        "id": "nWU7w8ndE4ZB"
      },
      "outputs": [],
      "source": [
        "#Checkpoint2"
      ]
    },
    {
      "cell_type": "markdown",
      "source": [
        "Question 1\n",
        "\n",
        "Write a program that will find all numbers which are divisible by 7 but are not a multiple of 5, between 2000 and 3200 (both included). The numbers obtained should be printed in a list.\n",
        "\n",
        "Hint: Consider using the range(#begin, #end) method."
      ],
      "metadata": {
        "id": "h5rK1UIqJA96"
      }
    },
    {
      "cell_type": "code",
      "source": [
        "list=[]\n",
        "for i in range (2000,3201):\n",
        "    if i % 7 ==0 and i %5 != 0 :\n",
        "        list.append(i)\n",
        "\n",
        "print(list)"
      ],
      "metadata": {
        "colab": {
          "base_uri": "https://localhost:8080/"
        },
        "id": "PVwEc7LYE8YB",
        "outputId": "b86308df-c854-4b11-f484-d193e5239e5c"
      },
      "execution_count": 12,
      "outputs": [
        {
          "output_type": "stream",
          "name": "stdout",
          "text": [
            "[2002, 2009, 2016, 2023, 2037, 2044, 2051, 2058, 2072, 2079, 2086, 2093, 2107, 2114, 2121, 2128, 2142, 2149, 2156, 2163, 2177, 2184, 2191, 2198, 2212, 2219, 2226, 2233, 2247, 2254, 2261, 2268, 2282, 2289, 2296, 2303, 2317, 2324, 2331, 2338, 2352, 2359, 2366, 2373, 2387, 2394, 2401, 2408, 2422, 2429, 2436, 2443, 2457, 2464, 2471, 2478, 2492, 2499, 2506, 2513, 2527, 2534, 2541, 2548, 2562, 2569, 2576, 2583, 2597, 2604, 2611, 2618, 2632, 2639, 2646, 2653, 2667, 2674, 2681, 2688, 2702, 2709, 2716, 2723, 2737, 2744, 2751, 2758, 2772, 2779, 2786, 2793, 2807, 2814, 2821, 2828, 2842, 2849, 2856, 2863, 2877, 2884, 2891, 2898, 2912, 2919, 2926, 2933, 2947, 2954, 2961, 2968, 2982, 2989, 2996, 3003, 3017, 3024, 3031, 3038, 3052, 3059, 3066, 3073, 3087, 3094, 3101, 3108, 3122, 3129, 3136, 3143, 3157, 3164, 3171, 3178, 3192, 3199]\n"
          ]
        }
      ]
    },
    {
      "cell_type": "markdown",
      "source": [
        "Question 2\n",
        "\n",
        "Write a program that can compute the factorial of a given number. (The factorial of n is the product of all positive integers less than or equal to n.) For example: For factorial(5)= 5 x 4 x 3 x 2 x 1 the result is 120 (i.e. factorial (0)=1).\n",
        "\n"
      ],
      "metadata": {
        "id": "W0x3MZRHJLS0"
      }
    },
    {
      "cell_type": "code",
      "source": [
        "#AnswerQ2:\n",
        "import math\n",
        "def factorial(a):\n",
        "    return math.factorial(a)\n",
        "\n",
        "factorial(5)"
      ],
      "metadata": {
        "colab": {
          "base_uri": "https://localhost:8080/"
        },
        "id": "XsqkEwi4JJoT",
        "outputId": "330d6803-c09f-4e66-db86-48d6f64bfe67"
      },
      "execution_count": 13,
      "outputs": [
        {
          "output_type": "execute_result",
          "data": {
            "text/plain": [
              "120"
            ]
          },
          "metadata": {},
          "execution_count": 13
        }
      ]
    },
    {
      "cell_type": "markdown",
      "source": [
        "Question 3\n",
        "\n",
        "With a given integer number n, write a program to generate a dictionary that contains (i, i*i) such that is an integral number between 1 and n (both included). Then, the program should print the dictionary. Suppose the following input is supplied to the program: 8 Then, the output should be: {1: 1, 2: 4, 3: 9, 4: 16, 5: 25, 6: 36, 7: 49, 8: 64}"
      ],
      "metadata": {
        "id": "VVkWsomVJSns"
      }
    },
    {
      "cell_type": "code",
      "source": [
        "#AnswerQ3:\n",
        "def Dictionary (n):\n",
        "  dict={}\n",
        "  for i in range (1, n+1):\n",
        "    dict[i]=i*i\n",
        "  return dict\n",
        "\n",
        "Dictionary(8)"
      ],
      "metadata": {
        "colab": {
          "base_uri": "https://localhost:8080/"
        },
        "id": "4V3QSz8ZJQ4L",
        "outputId": "a1e5c3d3-2392-4f1e-9ea8-7c110841aa44"
      },
      "execution_count": 14,
      "outputs": [
        {
          "output_type": "execute_result",
          "data": {
            "text/plain": [
              "{1: 1, 2: 4, 3: 9, 4: 16, 5: 25, 6: 36, 7: 49, 8: 64}"
            ]
          },
          "metadata": {},
          "execution_count": 14
        }
      ]
    },
    {
      "cell_type": "markdown",
      "source": [
        "Question 4\n",
        "\n",
        "Given a non-empty string and an integral n, return a new string where the char at index n has been removed. The value of n will be a valid index of a char in the original string (i.e. n will be in the range 0..len(str)-1 inclusive).\n",
        "\n",
        "missing_char('kitten', 1) → 'ktten' for example here we remove \"i\" which is located in the index 1\n",
        "\n",
        "missing_char('kitten', 0) → 'itten' here we remove \"k\" which is in the index 0\n",
        "\n",
        "missing_char('kitten', 4) → 'kittn' here we remove \"e\" which is in the index 4"
      ],
      "metadata": {
        "id": "_ZFsAfIcJZ89"
      }
    },
    {
      "cell_type": "code",
      "source": [
        "#AnswerQ4:\n",
        "def missing_char(str,n):\n",
        "  return str[:n] + str[n+1:]\n",
        "\n",
        "print(missing_char('kitten', 1) )\n",
        "print(missing_char('kitten', 0))\n",
        "missing_char('kitten', 4)"
      ],
      "metadata": {
        "colab": {
          "base_uri": "https://localhost:8080/",
          "height": 70
        },
        "id": "9PK38cIiJZQb",
        "outputId": "7b1c3d61-1bcd-4b7f-fc9f-b09d62e25d13"
      },
      "execution_count": 15,
      "outputs": [
        {
          "output_type": "stream",
          "name": "stdout",
          "text": [
            "ktten\n",
            "itten\n"
          ]
        },
        {
          "output_type": "execute_result",
          "data": {
            "text/plain": [
              "'kittn'"
            ],
            "application/vnd.google.colaboratory.intrinsic+json": {
              "type": "string"
            }
          },
          "metadata": {},
          "execution_count": 15
        }
      ]
    },
    {
      "cell_type": "markdown",
      "source": [
        "Question 5\n",
        "\n",
        "Write a NumPy program to convert a NumPy array into a Python list structure.\n",
        "\n",
        "Expected output:\n",
        "\n",
        "Original array elements: [[0 1] [2 3] [4 5]]\n",
        "\n",
        "Array to list: [[0, 1], [2, 3], [4, 5]]\n",
        "\n",
        "Hint: We can use the to_list() function to ensure the conversion.\n",
        "\n"
      ],
      "metadata": {
        "id": "OVz9tZdiJgFb"
      }
    },
    {
      "cell_type": "code",
      "source": [
        "#AnswerQ5:\n",
        "import numpy as np\n",
        "Original_array_elements= np.array([[0 ,1], [2 ,3] ,[4 ,5]])\n",
        "Original_array_elements"
      ],
      "metadata": {
        "colab": {
          "base_uri": "https://localhost:8080/"
        },
        "id": "2ZIpiBzMJfAS",
        "outputId": "304766b4-81a7-4d0c-ee36-26390a08fcbd"
      },
      "execution_count": 16,
      "outputs": [
        {
          "output_type": "execute_result",
          "data": {
            "text/plain": [
              "array([[0, 1],\n",
              "       [2, 3],\n",
              "       [4, 5]])"
            ]
          },
          "metadata": {},
          "execution_count": 16
        }
      ]
    },
    {
      "cell_type": "code",
      "source": [
        "Array_to_list=Original_array_elements.tolist()\n",
        "Array_to_list"
      ],
      "metadata": {
        "colab": {
          "base_uri": "https://localhost:8080/"
        },
        "id": "x7KpNBMYJlcK",
        "outputId": "c8df289c-468a-4190-ea5e-f134cc4b0ef1"
      },
      "execution_count": 17,
      "outputs": [
        {
          "output_type": "execute_result",
          "data": {
            "text/plain": [
              "[[0, 1], [2, 3], [4, 5]]"
            ]
          },
          "metadata": {},
          "execution_count": 17
        }
      ]
    },
    {
      "cell_type": "markdown",
      "source": [
        "Question 6\n",
        "\n",
        "Write a NumPy program to compute the covariance matrix of two given arrays.\n",
        "\n",
        "Original array1: [0 1 2]\n",
        "\n",
        "Original array2: [2 1 0]\n",
        "\n",
        "Covariance matrix of the said arrays: [[ 1. -1.] [-1. 1.]]\n",
        "\n",
        "Hint: We can use the np.cov() function to calculate the covariance between these two arrays"
      ],
      "metadata": {
        "id": "eLXsMZSoJtLw"
      }
    },
    {
      "cell_type": "code",
      "source": [
        "#AnswerQ6:\n",
        "import numpy as np\n",
        "\n",
        "Original_array1= np.array([0 ,1 ,2])\n",
        "Original_array2= np.array ([2, 1, 0])\n",
        "print(Original_array1)\n",
        "print(Original_array2)"
      ],
      "metadata": {
        "colab": {
          "base_uri": "https://localhost:8080/"
        },
        "id": "-G7Zx4CgJoam",
        "outputId": "4f9b49af-3f32-4159-b6c5-ac23f78f9da8"
      },
      "execution_count": 18,
      "outputs": [
        {
          "output_type": "stream",
          "name": "stdout",
          "text": [
            "[0 1 2]\n",
            "[2 1 0]\n"
          ]
        }
      ]
    },
    {
      "cell_type": "markdown",
      "source": [
        "Question 7\n",
        "\n",
        "Question: Write a program that calculates and prints the value according to the given formula: Q= Square root of [(2 * C * D)/H]\n",
        "\n",
        "The following are the fixed values of C and H: C is 50. H is 30.\n",
        "\n",
        "D is the variable whose values should be input into your program in a comma-separated sequence. (That means D contains more than value)\n",
        "\n",
        "Example: Let's assume the following comma-separated input sequence is given to the program: 100,150,180 The output of the program should be 18,22,24\n",
        "\n",
        "To further explain this, we will obtain a result for each value of D: Q1= Square root of [(2 * C * 100)/H] =18, Q2= Square root of [(2 * C * 150)/H] = 22 and Q3 = Square root of [(2 * C * 180)/H] = 24\n",
        "\n",
        "Hint: If the output received is in decimal form, it should be rounded off to its nearest value. For example, if the output received is 26.0, it should be printed as 26. In case of input data being supplied to the question, it should be assumed to be a console input.\n",
        "\n"
      ],
      "metadata": {
        "id": "po2jJ72-JziX"
      }
    },
    {
      "cell_type": "code",
      "source": [
        "#AnswerQ7:\n",
        "\n",
        "import math\n",
        "\n",
        "C=50\n",
        "H=30\n",
        "def Formula (D):\n",
        "  return math.sqrt((2*C*D)/H)\n",
        "\n",
        "inputv = input(\"Enter comma-separated sequence of D: \")\n",
        "D_v = inputv.split(',')\n",
        "\n",
        "result = [Formula(int(D)) for D in D_v]\n",
        "rounded=[round(res) for res in result]\n",
        "print(rounded)"
      ],
      "metadata": {
        "colab": {
          "base_uri": "https://localhost:8080/"
        },
        "id": "UFUxMi2jJviM",
        "outputId": "6ecd6de3-2c3f-4053-acfb-c3e49bf3e6a6"
      },
      "execution_count": 19,
      "outputs": [
        {
          "output_type": "stream",
          "name": "stdout",
          "text": [
            "Enter comma-separated sequence of D: 100,150,180\n",
            "[18, 22, 24]\n"
          ]
        }
      ]
    },
    {
      "cell_type": "code",
      "source": [],
      "metadata": {
        "id": "8gQVG3BDJ2pE"
      },
      "execution_count": null,
      "outputs": []
    }
  ]
}